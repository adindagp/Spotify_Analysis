{
 "cells": [
  {
   "cell_type": "markdown",
   "id": "156b54e4",
   "metadata": {},
   "source": [
    "# Spotify Hit Prediction"
   ]
  },
  {
   "cell_type": "markdown",
   "id": "755eacdd",
   "metadata": {},
   "source": [
    "#### Dataset description\n",
    "<b>about the data</b>: This dataset include the song attribute such as danceability, energy, key and whether it is a popular song or not.\n",
    "<b>target</b>: The target variable for the track. It can be either '0' or '1'. '1' implies that this song has featured in the weekly list (Issued by Billboards) of Hot-100 tracks in that decade at least once and is therefore a 'hit'. '0' Implies that the track is a 'flop'.\n",
    "</b>purpose</b>: purpose behind this analysis is choosing the most relevant attributes to create a model that could predict song popularity"
   ]
  },
  {
   "cell_type": "markdown",
   "id": "60fd8968",
   "metadata": {},
   "source": [
    "#### Module"
   ]
  },
  {
   "cell_type": "code",
   "execution_count": 4,
   "id": "6d11d82e",
   "metadata": {},
   "outputs": [],
   "source": [
    "import pandas as pd\n",
    "import numpy as np\n",
    "import glob\n",
    "import os\n",
    "import seaborn as sns\n",
    "import matplotlib.pyplot as plt\n",
    "import plotly.express as px\n",
    "from sklearn.linear_model import LogisticRegression\n",
    "from sklearn.model_selection import train_test_split\n",
    "from statsmodels.stats.outliers_influence import variance_inflation_factor\n",
    "from sklearn import metrics"
   ]
  },
  {
   "cell_type": "markdown",
   "id": "5606d576",
   "metadata": {},
   "source": [
    "#### Combining CSV Files"
   ]
  },
  {
   "cell_type": "code",
   "execution_count": 5,
   "id": "a24f1f54",
   "metadata": {},
   "outputs": [],
   "source": [
    "os.chdir(\"/Users/Adinda Gita/Documents/Data Science/spotify/top_song\")\n",
    "    \n",
    "extension = 'csv'\n",
    "all_filenames = [i for i in glob.glob('*.{}'.format(extension))]\n",
    "\n",
    "#combine all files in the list\n",
    "combined_csv = pd.concat([pd.read_csv(f) for f in all_filenames ])\n",
    "#export to csv\n",
    "combined_csv.to_csv( \"combined_csv.csv\", index=False, encoding='utf-8-sig')"
   ]
  },
  {
   "cell_type": "markdown",
   "id": "86ed9c3d",
   "metadata": {},
   "source": [
    "#### Notebook Presentation"
   ]
  },
  {
   "cell_type": "code",
   "execution_count": 6,
   "id": "9409b552",
   "metadata": {},
   "outputs": [],
   "source": [
    "# Show numeric output in decimal format e.g., 2.15\n",
    "pd.options.display.float_format = '{:,.2f}'.format"
   ]
  },
  {
   "cell_type": "markdown",
   "id": "b28fad64",
   "metadata": {},
   "source": [
    "### Exploratory Data Analysis"
   ]
  },
  {
   "cell_type": "markdown",
   "id": "22d73814",
   "metadata": {},
   "source": [
    "#### Data Attributes"
   ]
  },
  {
   "cell_type": "code",
   "execution_count": 7,
   "id": "c10ceeac",
   "metadata": {},
   "outputs": [],
   "source": [
    "df= pd.read_csv(\"combined_csv.csv\")"
   ]
  },
  {
   "cell_type": "code",
   "execution_count": 8,
   "id": "01e8df4f",
   "metadata": {},
   "outputs": [
    {
     "data": {
      "text/html": [
       "<div>\n",
       "<style scoped>\n",
       "    .dataframe tbody tr th:only-of-type {\n",
       "        vertical-align: middle;\n",
       "    }\n",
       "\n",
       "    .dataframe tbody tr th {\n",
       "        vertical-align: top;\n",
       "    }\n",
       "\n",
       "    .dataframe thead th {\n",
       "        text-align: right;\n",
       "    }\n",
       "</style>\n",
       "<table border=\"1\" class=\"dataframe\">\n",
       "  <thead>\n",
       "    <tr style=\"text-align: right;\">\n",
       "      <th></th>\n",
       "      <th>track</th>\n",
       "      <th>artist</th>\n",
       "      <th>uri</th>\n",
       "      <th>danceability</th>\n",
       "      <th>energy</th>\n",
       "      <th>key</th>\n",
       "      <th>loudness</th>\n",
       "      <th>mode</th>\n",
       "      <th>speechiness</th>\n",
       "      <th>acousticness</th>\n",
       "      <th>instrumentalness</th>\n",
       "      <th>liveness</th>\n",
       "      <th>valence</th>\n",
       "      <th>tempo</th>\n",
       "      <th>duration_ms</th>\n",
       "      <th>time_signature</th>\n",
       "      <th>chorus_hit</th>\n",
       "      <th>sections</th>\n",
       "      <th>target</th>\n",
       "    </tr>\n",
       "  </thead>\n",
       "  <tbody>\n",
       "    <tr>\n",
       "      <th>0</th>\n",
       "      <td>Lucky Man</td>\n",
       "      <td>Montgomery Gentry</td>\n",
       "      <td>spotify:track:4GiXBCUF7H6YfNQsnBRIzl</td>\n",
       "      <td>0.58</td>\n",
       "      <td>0.47</td>\n",
       "      <td>4</td>\n",
       "      <td>-7.27</td>\n",
       "      <td>1</td>\n",
       "      <td>0.03</td>\n",
       "      <td>0.37</td>\n",
       "      <td>0.00</td>\n",
       "      <td>0.16</td>\n",
       "      <td>0.53</td>\n",
       "      <td>133.06</td>\n",
       "      <td>196707</td>\n",
       "      <td>4</td>\n",
       "      <td>30.88</td>\n",
       "      <td>13</td>\n",
       "      <td>1</td>\n",
       "    </tr>\n",
       "    <tr>\n",
       "      <th>1</th>\n",
       "      <td>On The Hotline</td>\n",
       "      <td>Pretty Ricky</td>\n",
       "      <td>spotify:track:1zyqZONW985Cs4osz9wlsu</td>\n",
       "      <td>0.70</td>\n",
       "      <td>0.85</td>\n",
       "      <td>10</td>\n",
       "      <td>-5.48</td>\n",
       "      <td>0</td>\n",
       "      <td>0.18</td>\n",
       "      <td>0.02</td>\n",
       "      <td>0.00</td>\n",
       "      <td>0.15</td>\n",
       "      <td>0.69</td>\n",
       "      <td>92.99</td>\n",
       "      <td>242587</td>\n",
       "      <td>4</td>\n",
       "      <td>41.51</td>\n",
       "      <td>10</td>\n",
       "      <td>1</td>\n",
       "    </tr>\n",
       "    <tr>\n",
       "      <th>2</th>\n",
       "      <td>Clouds Of Dementia</td>\n",
       "      <td>Candlemass</td>\n",
       "      <td>spotify:track:6cHZf7RbxXCKwEkgAZT4mY</td>\n",
       "      <td>0.16</td>\n",
       "      <td>0.84</td>\n",
       "      <td>9</td>\n",
       "      <td>-3.01</td>\n",
       "      <td>1</td>\n",
       "      <td>0.05</td>\n",
       "      <td>0.00</td>\n",
       "      <td>0.00</td>\n",
       "      <td>0.17</td>\n",
       "      <td>0.30</td>\n",
       "      <td>86.96</td>\n",
       "      <td>338893</td>\n",
       "      <td>4</td>\n",
       "      <td>65.33</td>\n",
       "      <td>13</td>\n",
       "      <td>0</td>\n",
       "    </tr>\n",
       "    <tr>\n",
       "      <th>3</th>\n",
       "      <td>Heavy Metal, Raise Hell!</td>\n",
       "      <td>Zwartketterij</td>\n",
       "      <td>spotify:track:2IjBPp2vMeX7LggzRN3iSX</td>\n",
       "      <td>0.19</td>\n",
       "      <td>0.99</td>\n",
       "      <td>4</td>\n",
       "      <td>-3.75</td>\n",
       "      <td>1</td>\n",
       "      <td>0.17</td>\n",
       "      <td>0.00</td>\n",
       "      <td>0.08</td>\n",
       "      <td>0.19</td>\n",
       "      <td>0.33</td>\n",
       "      <td>148.44</td>\n",
       "      <td>255667</td>\n",
       "      <td>4</td>\n",
       "      <td>58.60</td>\n",
       "      <td>9</td>\n",
       "      <td>0</td>\n",
       "    </tr>\n",
       "    <tr>\n",
       "      <th>4</th>\n",
       "      <td>I Got A Feelin'</td>\n",
       "      <td>Billy Currington</td>\n",
       "      <td>spotify:track:1tF370eYXUcWwkIvaq3IGz</td>\n",
       "      <td>0.63</td>\n",
       "      <td>0.76</td>\n",
       "      <td>2</td>\n",
       "      <td>-4.35</td>\n",
       "      <td>1</td>\n",
       "      <td>0.03</td>\n",
       "      <td>0.36</td>\n",
       "      <td>0.00</td>\n",
       "      <td>0.12</td>\n",
       "      <td>0.63</td>\n",
       "      <td>112.10</td>\n",
       "      <td>193760</td>\n",
       "      <td>4</td>\n",
       "      <td>22.62</td>\n",
       "      <td>10</td>\n",
       "      <td>1</td>\n",
       "    </tr>\n",
       "    <tr>\n",
       "      <th>5</th>\n",
       "      <td>Dantzig Station</td>\n",
       "      <td>State Of Art</td>\n",
       "      <td>spotify:track:5Z3nrC0JbJmXaOGiXTuNFk</td>\n",
       "      <td>0.73</td>\n",
       "      <td>0.84</td>\n",
       "      <td>11</td>\n",
       "      <td>-7.22</td>\n",
       "      <td>0</td>\n",
       "      <td>0.10</td>\n",
       "      <td>0.37</td>\n",
       "      <td>0.27</td>\n",
       "      <td>0.14</td>\n",
       "      <td>0.97</td>\n",
       "      <td>135.35</td>\n",
       "      <td>192720</td>\n",
       "      <td>4</td>\n",
       "      <td>28.29</td>\n",
       "      <td>10</td>\n",
       "      <td>0</td>\n",
       "    </tr>\n",
       "    <tr>\n",
       "      <th>6</th>\n",
       "      <td>Divorced</td>\n",
       "      <td>Blacklisted</td>\n",
       "      <td>spotify:track:0iAdSLiQBIizTAiLUP7p5E</td>\n",
       "      <td>0.36</td>\n",
       "      <td>0.92</td>\n",
       "      <td>1</td>\n",
       "      <td>-2.64</td>\n",
       "      <td>1</td>\n",
       "      <td>0.07</td>\n",
       "      <td>0.00</td>\n",
       "      <td>0.00</td>\n",
       "      <td>0.32</td>\n",
       "      <td>0.29</td>\n",
       "      <td>77.25</td>\n",
       "      <td>89427</td>\n",
       "      <td>4</td>\n",
       "      <td>45.77</td>\n",
       "      <td>4</td>\n",
       "      <td>0</td>\n",
       "    </tr>\n",
       "    <tr>\n",
       "      <th>7</th>\n",
       "      <td>Where I Come From</td>\n",
       "      <td>Alan Jackson</td>\n",
       "      <td>spotify:track:6ej1QJ8eIYmhsyTlvgDajy</td>\n",
       "      <td>0.73</td>\n",
       "      <td>0.63</td>\n",
       "      <td>11</td>\n",
       "      <td>-8.14</td>\n",
       "      <td>0</td>\n",
       "      <td>0.03</td>\n",
       "      <td>0.22</td>\n",
       "      <td>0.00</td>\n",
       "      <td>0.19</td>\n",
       "      <td>0.75</td>\n",
       "      <td>124.71</td>\n",
       "      <td>239240</td>\n",
       "      <td>4</td>\n",
       "      <td>35.60</td>\n",
       "      <td>10</td>\n",
       "      <td>1</td>\n",
       "    </tr>\n",
       "    <tr>\n",
       "      <th>8</th>\n",
       "      <td>Nothin' To Die For</td>\n",
       "      <td>Tim McGraw</td>\n",
       "      <td>spotify:track:3lRSz6HujrSy9b3LXg2Kq9</td>\n",
       "      <td>0.48</td>\n",
       "      <td>0.79</td>\n",
       "      <td>10</td>\n",
       "      <td>-5.65</td>\n",
       "      <td>1</td>\n",
       "      <td>0.03</td>\n",
       "      <td>0.05</td>\n",
       "      <td>0.00</td>\n",
       "      <td>0.08</td>\n",
       "      <td>0.39</td>\n",
       "      <td>153.10</td>\n",
       "      <td>253640</td>\n",
       "      <td>4</td>\n",
       "      <td>19.66</td>\n",
       "      <td>11</td>\n",
       "      <td>1</td>\n",
       "    </tr>\n",
       "    <tr>\n",
       "      <th>9</th>\n",
       "      <td>I Want to Know Your Plans</td>\n",
       "      <td>Say Anything</td>\n",
       "      <td>spotify:track:3pjnCLIHbRczUjenWOEo56</td>\n",
       "      <td>0.65</td>\n",
       "      <td>0.32</td>\n",
       "      <td>7</td>\n",
       "      <td>-9.68</td>\n",
       "      <td>1</td>\n",
       "      <td>0.04</td>\n",
       "      <td>0.35</td>\n",
       "      <td>0.00</td>\n",
       "      <td>0.12</td>\n",
       "      <td>0.34</td>\n",
       "      <td>124.21</td>\n",
       "      <td>314286</td>\n",
       "      <td>3</td>\n",
       "      <td>32.66</td>\n",
       "      <td>16</td>\n",
       "      <td>0</td>\n",
       "    </tr>\n",
       "  </tbody>\n",
       "</table>\n",
       "</div>"
      ],
      "text/plain": [
       "                       track             artist  \\\n",
       "0                  Lucky Man  Montgomery Gentry   \n",
       "1             On The Hotline       Pretty Ricky   \n",
       "2         Clouds Of Dementia         Candlemass   \n",
       "3   Heavy Metal, Raise Hell!      Zwartketterij   \n",
       "4            I Got A Feelin'   Billy Currington   \n",
       "5            Dantzig Station       State Of Art   \n",
       "6                   Divorced        Blacklisted   \n",
       "7          Where I Come From       Alan Jackson   \n",
       "8         Nothin' To Die For         Tim McGraw   \n",
       "9  I Want to Know Your Plans       Say Anything   \n",
       "\n",
       "                                    uri  danceability  energy  key  loudness  \\\n",
       "0  spotify:track:4GiXBCUF7H6YfNQsnBRIzl          0.58    0.47    4     -7.27   \n",
       "1  spotify:track:1zyqZONW985Cs4osz9wlsu          0.70    0.85   10     -5.48   \n",
       "2  spotify:track:6cHZf7RbxXCKwEkgAZT4mY          0.16    0.84    9     -3.01   \n",
       "3  spotify:track:2IjBPp2vMeX7LggzRN3iSX          0.19    0.99    4     -3.75   \n",
       "4  spotify:track:1tF370eYXUcWwkIvaq3IGz          0.63    0.76    2     -4.35   \n",
       "5  spotify:track:5Z3nrC0JbJmXaOGiXTuNFk          0.73    0.84   11     -7.22   \n",
       "6  spotify:track:0iAdSLiQBIizTAiLUP7p5E          0.36    0.92    1     -2.64   \n",
       "7  spotify:track:6ej1QJ8eIYmhsyTlvgDajy          0.73    0.63   11     -8.14   \n",
       "8  spotify:track:3lRSz6HujrSy9b3LXg2Kq9          0.48    0.79   10     -5.65   \n",
       "9  spotify:track:3pjnCLIHbRczUjenWOEo56          0.65    0.32    7     -9.68   \n",
       "\n",
       "   mode  speechiness  acousticness  instrumentalness  liveness  valence  \\\n",
       "0     1         0.03          0.37              0.00      0.16     0.53   \n",
       "1     0         0.18          0.02              0.00      0.15     0.69   \n",
       "2     1         0.05          0.00              0.00      0.17     0.30   \n",
       "3     1         0.17          0.00              0.08      0.19     0.33   \n",
       "4     1         0.03          0.36              0.00      0.12     0.63   \n",
       "5     0         0.10          0.37              0.27      0.14     0.97   \n",
       "6     1         0.07          0.00              0.00      0.32     0.29   \n",
       "7     0         0.03          0.22              0.00      0.19     0.75   \n",
       "8     1         0.03          0.05              0.00      0.08     0.39   \n",
       "9     1         0.04          0.35              0.00      0.12     0.34   \n",
       "\n",
       "   tempo  duration_ms  time_signature  chorus_hit  sections  target  \n",
       "0 133.06       196707               4       30.88        13       1  \n",
       "1  92.99       242587               4       41.51        10       1  \n",
       "2  86.96       338893               4       65.33        13       0  \n",
       "3 148.44       255667               4       58.60         9       0  \n",
       "4 112.10       193760               4       22.62        10       1  \n",
       "5 135.35       192720               4       28.29        10       0  \n",
       "6  77.25        89427               4       45.77         4       0  \n",
       "7 124.71       239240               4       35.60        10       1  \n",
       "8 153.10       253640               4       19.66        11       1  \n",
       "9 124.21       314286               3       32.66        16       0  "
      ]
     },
     "execution_count": 8,
     "metadata": {},
     "output_type": "execute_result"
    }
   ],
   "source": [
    "df.head(10)"
   ]
  },
  {
   "cell_type": "code",
   "execution_count": 9,
   "id": "0374fd2f",
   "metadata": {},
   "outputs": [
    {
     "data": {
      "text/plain": [
       "track                object\n",
       "artist               object\n",
       "uri                  object\n",
       "danceability        float64\n",
       "energy              float64\n",
       "key                   int64\n",
       "loudness            float64\n",
       "mode                  int64\n",
       "speechiness         float64\n",
       "acousticness        float64\n",
       "instrumentalness    float64\n",
       "liveness            float64\n",
       "valence             float64\n",
       "tempo               float64\n",
       "duration_ms           int64\n",
       "time_signature        int64\n",
       "chorus_hit          float64\n",
       "sections              int64\n",
       "target                int64\n",
       "dtype: object"
      ]
     },
     "execution_count": 9,
     "metadata": {},
     "output_type": "execute_result"
    }
   ],
   "source": [
    "df.dtypes"
   ]
  },
  {
   "cell_type": "code",
   "execution_count": 10,
   "id": "dfb8918d",
   "metadata": {},
   "outputs": [
    {
     "data": {
      "text/plain": [
       "(82212, 19)"
      ]
     },
     "execution_count": 10,
     "metadata": {},
     "output_type": "execute_result"
    }
   ],
   "source": [
    "df.shape"
   ]
  },
  {
   "cell_type": "code",
   "execution_count": 11,
   "id": "caf76d03",
   "metadata": {},
   "outputs": [
    {
     "name": "stdout",
     "output_type": "stream",
     "text": [
      "track               0\n",
      "artist              0\n",
      "uri                 0\n",
      "danceability        0\n",
      "energy              0\n",
      "key                 0\n",
      "loudness            0\n",
      "mode                0\n",
      "speechiness         0\n",
      "acousticness        0\n",
      "instrumentalness    0\n",
      "liveness            0\n",
      "valence             0\n",
      "tempo               0\n",
      "duration_ms         0\n",
      "time_signature      0\n",
      "chorus_hit          0\n",
      "sections            0\n",
      "target              0\n",
      "dtype: int64\n"
     ]
    }
   ],
   "source": [
    "print(df.isna().sum())"
   ]
  },
  {
   "cell_type": "code",
   "execution_count": 12,
   "id": "e4222c9d",
   "metadata": {},
   "outputs": [
    {
     "name": "stdout",
     "output_type": "stream",
     "text": [
      "<class 'pandas.core.frame.DataFrame'>\n",
      "RangeIndex: 82212 entries, 0 to 82211\n",
      "Data columns (total 19 columns):\n",
      " #   Column            Non-Null Count  Dtype  \n",
      "---  ------            --------------  -----  \n",
      " 0   track             82212 non-null  object \n",
      " 1   artist            82212 non-null  object \n",
      " 2   uri               82212 non-null  object \n",
      " 3   danceability      82212 non-null  float64\n",
      " 4   energy            82212 non-null  float64\n",
      " 5   key               82212 non-null  int64  \n",
      " 6   loudness          82212 non-null  float64\n",
      " 7   mode              82212 non-null  int64  \n",
      " 8   speechiness       82212 non-null  float64\n",
      " 9   acousticness      82212 non-null  float64\n",
      " 10  instrumentalness  82212 non-null  float64\n",
      " 11  liveness          82212 non-null  float64\n",
      " 12  valence           82212 non-null  float64\n",
      " 13  tempo             82212 non-null  float64\n",
      " 14  duration_ms       82212 non-null  int64  \n",
      " 15  time_signature    82212 non-null  int64  \n",
      " 16  chorus_hit        82212 non-null  float64\n",
      " 17  sections          82212 non-null  int64  \n",
      " 18  target            82212 non-null  int64  \n",
      "dtypes: float64(10), int64(6), object(3)\n",
      "memory usage: 11.9+ MB\n"
     ]
    }
   ],
   "source": [
    "df.info()"
   ]
  },
  {
   "cell_type": "code",
   "execution_count": 16,
   "id": "88df2f71",
   "metadata": {},
   "outputs": [
    {
     "data": {
      "text/plain": [
       "<AxesSubplot:xlabel='target'>"
      ]
     },
     "execution_count": 16,
     "metadata": {},
     "output_type": "execute_result"
    },
    {
     "data": {
      "image/png": "[encoded data removed]",
      "text/plain": [
       "<Figure size 432x288 with 1 Axes>"
      ]
     },
     "metadata": {
      "needs_background": "light"
     },
     "output_type": "display_data"
    }
   ],
   "source": [
    "df_pie = df.groupby('target').size()\n",
    "df_pie.plot.bar()"
   ]
  },
  {
   "cell_type": "markdown",
   "id": "8aa286e2",
   "metadata": {},
   "source": [
    "The amount of non-hit and hit songs are the same"
   ]
  },
  {
   "cell_type": "code",
   "execution_count": 30,
   "id": "b81ba98b",
   "metadata": {},
   "outputs": [
    {
     "data": {
      "text/html": [
       "<div>\n",
       "<style scoped>\n",
       "    .dataframe tbody tr th:only-of-type {\n",
       "        vertical-align: middle;\n",
       "    }\n",
       "\n",
       "    .dataframe tbody tr th {\n",
       "        vertical-align: top;\n",
       "    }\n",
       "\n",
       "    .dataframe thead th {\n",
       "        text-align: right;\n",
       "    }\n",
       "</style>\n",
       "<table border=\"1\" class=\"dataframe\">\n",
       "  <thead>\n",
       "    <tr style=\"text-align: right;\">\n",
       "      <th></th>\n",
       "      <th>danceability</th>\n",
       "      <th>energy</th>\n",
       "      <th>key</th>\n",
       "      <th>loudness</th>\n",
       "      <th>mode</th>\n",
       "      <th>speechiness</th>\n",
       "      <th>acousticness</th>\n",
       "      <th>instrumentalness</th>\n",
       "      <th>liveness</th>\n",
       "      <th>valence</th>\n",
       "      <th>tempo</th>\n",
       "      <th>duration_ms</th>\n",
       "      <th>time_signature</th>\n",
       "      <th>chorus_hit</th>\n",
       "      <th>sections</th>\n",
       "      <th>target</th>\n",
       "    </tr>\n",
       "  </thead>\n",
       "  <tbody>\n",
       "    <tr>\n",
       "      <th>danceability</th>\n",
       "      <td>1.00</td>\n",
       "      <td>0.21</td>\n",
       "      <td>0.02</td>\n",
       "      <td>0.27</td>\n",
       "      <td>-0.03</td>\n",
       "      <td>0.16</td>\n",
       "      <td>-0.26</td>\n",
       "      <td>-0.30</td>\n",
       "      <td>-0.12</td>\n",
       "      <td>0.55</td>\n",
       "      <td>-0.07</td>\n",
       "      <td>-0.06</td>\n",
       "      <td>0.19</td>\n",
       "      <td>-0.04</td>\n",
       "      <td>-0.06</td>\n",
       "      <td>0.35</td>\n",
       "    </tr>\n",
       "    <tr>\n",
       "      <th>energy</th>\n",
       "      <td>0.21</td>\n",
       "      <td>1.00</td>\n",
       "      <td>0.02</td>\n",
       "      <td>0.77</td>\n",
       "      <td>-0.03</td>\n",
       "      <td>0.12</td>\n",
       "      <td>-0.72</td>\n",
       "      <td>-0.21</td>\n",
       "      <td>0.16</td>\n",
       "      <td>0.34</td>\n",
       "      <td>0.22</td>\n",
       "      <td>0.01</td>\n",
       "      <td>0.20</td>\n",
       "      <td>0.01</td>\n",
       "      <td>-0.04</td>\n",
       "      <td>0.18</td>\n",
       "    </tr>\n",
       "    <tr>\n",
       "      <th>key</th>\n",
       "      <td>0.02</td>\n",
       "      <td>0.02</td>\n",
       "      <td>1.00</td>\n",
       "      <td>0.01</td>\n",
       "      <td>-0.14</td>\n",
       "      <td>0.03</td>\n",
       "      <td>-0.02</td>\n",
       "      <td>-0.01</td>\n",
       "      <td>0.00</td>\n",
       "      <td>0.01</td>\n",
       "      <td>0.00</td>\n",
       "      <td>0.02</td>\n",
       "      <td>0.00</td>\n",
       "      <td>0.01</td>\n",
       "      <td>0.01</td>\n",
       "      <td>0.01</td>\n",
       "    </tr>\n",
       "    <tr>\n",
       "      <th>loudness</th>\n",
       "      <td>0.27</td>\n",
       "      <td>0.77</td>\n",
       "      <td>0.01</td>\n",
       "      <td>1.00</td>\n",
       "      <td>0.00</td>\n",
       "      <td>0.07</td>\n",
       "      <td>-0.57</td>\n",
       "      <td>-0.37</td>\n",
       "      <td>0.09</td>\n",
       "      <td>0.27</td>\n",
       "      <td>0.17</td>\n",
       "      <td>-0.05</td>\n",
       "      <td>0.17</td>\n",
       "      <td>-0.01</td>\n",
       "      <td>-0.08</td>\n",
       "      <td>0.29</td>\n",
       "    </tr>\n",
       "    <tr>\n",
       "      <th>mode</th>\n",
       "      <td>-0.03</td>\n",
       "      <td>-0.03</td>\n",
       "      <td>-0.14</td>\n",
       "      <td>0.00</td>\n",
       "      <td>1.00</td>\n",
       "      <td>-0.06</td>\n",
       "      <td>0.05</td>\n",
       "      <td>-0.08</td>\n",
       "      <td>0.01</td>\n",
       "      <td>0.04</td>\n",
       "      <td>0.03</td>\n",
       "      <td>-0.07</td>\n",
       "      <td>-0.01</td>\n",
       "      <td>-0.02</td>\n",
       "      <td>-0.06</td>\n",
       "      <td>0.08</td>\n",
       "    </tr>\n",
       "    <tr>\n",
       "      <th>speechiness</th>\n",
       "      <td>0.16</td>\n",
       "      <td>0.12</td>\n",
       "      <td>0.03</td>\n",
       "      <td>0.07</td>\n",
       "      <td>-0.06</td>\n",
       "      <td>1.00</td>\n",
       "      <td>-0.08</td>\n",
       "      <td>-0.08</td>\n",
       "      <td>0.13</td>\n",
       "      <td>0.00</td>\n",
       "      <td>0.04</td>\n",
       "      <td>0.01</td>\n",
       "      <td>0.02</td>\n",
       "      <td>0.01</td>\n",
       "      <td>-0.01</td>\n",
       "      <td>-0.04</td>\n",
       "    </tr>\n",
       "    <tr>\n",
       "      <th>acousticness</th>\n",
       "      <td>-0.26</td>\n",
       "      <td>-0.72</td>\n",
       "      <td>-0.02</td>\n",
       "      <td>-0.57</td>\n",
       "      <td>0.05</td>\n",
       "      <td>-0.08</td>\n",
       "      <td>1.00</td>\n",
       "      <td>0.20</td>\n",
       "      <td>-0.03</td>\n",
       "      <td>-0.20</td>\n",
       "      <td>-0.18</td>\n",
       "      <td>-0.07</td>\n",
       "      <td>-0.19</td>\n",
       "      <td>-0.01</td>\n",
       "      <td>-0.02</td>\n",
       "      <td>-0.25</td>\n",
       "    </tr>\n",
       "    <tr>\n",
       "      <th>instrumentalness</th>\n",
       "      <td>-0.30</td>\n",
       "      <td>-0.21</td>\n",
       "      <td>-0.01</td>\n",
       "      <td>-0.37</td>\n",
       "      <td>-0.08</td>\n",
       "      <td>-0.08</td>\n",
       "      <td>0.20</td>\n",
       "      <td>1.00</td>\n",
       "      <td>-0.05</td>\n",
       "      <td>-0.29</td>\n",
       "      <td>-0.05</td>\n",
       "      <td>0.11</td>\n",
       "      <td>-0.08</td>\n",
       "      <td>0.05</td>\n",
       "      <td>0.08</td>\n",
       "      <td>-0.41</td>\n",
       "    </tr>\n",
       "    <tr>\n",
       "      <th>liveness</th>\n",
       "      <td>-0.12</td>\n",
       "      <td>0.16</td>\n",
       "      <td>0.00</td>\n",
       "      <td>0.09</td>\n",
       "      <td>0.01</td>\n",
       "      <td>0.13</td>\n",
       "      <td>-0.03</td>\n",
       "      <td>-0.05</td>\n",
       "      <td>1.00</td>\n",
       "      <td>0.00</td>\n",
       "      <td>0.02</td>\n",
       "      <td>0.01</td>\n",
       "      <td>0.00</td>\n",
       "      <td>0.04</td>\n",
       "      <td>-0.01</td>\n",
       "      <td>-0.05</td>\n",
       "    </tr>\n",
       "    <tr>\n",
       "      <th>valence</th>\n",
       "      <td>0.55</td>\n",
       "      <td>0.34</td>\n",
       "      <td>0.01</td>\n",
       "      <td>0.27</td>\n",
       "      <td>0.04</td>\n",
       "      <td>0.00</td>\n",
       "      <td>-0.20</td>\n",
       "      <td>-0.29</td>\n",
       "      <td>0.00</td>\n",
       "      <td>1.00</td>\n",
       "      <td>0.11</td>\n",
       "      <td>-0.17</td>\n",
       "      <td>0.16</td>\n",
       "      <td>-0.06</td>\n",
       "      <td>-0.13</td>\n",
       "      <td>0.25</td>\n",
       "    </tr>\n",
       "    <tr>\n",
       "      <th>tempo</th>\n",
       "      <td>-0.07</td>\n",
       "      <td>0.22</td>\n",
       "      <td>0.00</td>\n",
       "      <td>0.17</td>\n",
       "      <td>0.03</td>\n",
       "      <td>0.04</td>\n",
       "      <td>-0.18</td>\n",
       "      <td>-0.05</td>\n",
       "      <td>0.02</td>\n",
       "      <td>0.11</td>\n",
       "      <td>1.00</td>\n",
       "      <td>-0.02</td>\n",
       "      <td>0.01</td>\n",
       "      <td>-0.06</td>\n",
       "      <td>0.02</td>\n",
       "      <td>0.03</td>\n",
       "    </tr>\n",
       "    <tr>\n",
       "      <th>duration_ms</th>\n",
       "      <td>-0.06</td>\n",
       "      <td>0.01</td>\n",
       "      <td>0.02</td>\n",
       "      <td>-0.05</td>\n",
       "      <td>-0.07</td>\n",
       "      <td>0.01</td>\n",
       "      <td>-0.07</td>\n",
       "      <td>0.11</td>\n",
       "      <td>0.01</td>\n",
       "      <td>-0.17</td>\n",
       "      <td>-0.02</td>\n",
       "      <td>1.00</td>\n",
       "      <td>0.02</td>\n",
       "      <td>0.09</td>\n",
       "      <td>0.89</td>\n",
       "      <td>-0.07</td>\n",
       "    </tr>\n",
       "    <tr>\n",
       "      <th>time_signature</th>\n",
       "      <td>0.19</td>\n",
       "      <td>0.20</td>\n",
       "      <td>0.00</td>\n",
       "      <td>0.17</td>\n",
       "      <td>-0.01</td>\n",
       "      <td>0.02</td>\n",
       "      <td>-0.19</td>\n",
       "      <td>-0.08</td>\n",
       "      <td>0.00</td>\n",
       "      <td>0.16</td>\n",
       "      <td>0.01</td>\n",
       "      <td>0.02</td>\n",
       "      <td>1.00</td>\n",
       "      <td>-0.01</td>\n",
       "      <td>0.01</td>\n",
       "      <td>0.10</td>\n",
       "    </tr>\n",
       "    <tr>\n",
       "      <th>chorus_hit</th>\n",
       "      <td>-0.04</td>\n",
       "      <td>0.01</td>\n",
       "      <td>0.01</td>\n",
       "      <td>-0.01</td>\n",
       "      <td>-0.02</td>\n",
       "      <td>0.01</td>\n",
       "      <td>-0.01</td>\n",
       "      <td>0.05</td>\n",
       "      <td>0.04</td>\n",
       "      <td>-0.06</td>\n",
       "      <td>-0.06</td>\n",
       "      <td>0.09</td>\n",
       "      <td>-0.01</td>\n",
       "      <td>1.00</td>\n",
       "      <td>-0.09</td>\n",
       "      <td>-0.05</td>\n",
       "    </tr>\n",
       "    <tr>\n",
       "      <th>sections</th>\n",
       "      <td>-0.06</td>\n",
       "      <td>-0.04</td>\n",
       "      <td>0.01</td>\n",
       "      <td>-0.08</td>\n",
       "      <td>-0.06</td>\n",
       "      <td>-0.01</td>\n",
       "      <td>-0.02</td>\n",
       "      <td>0.08</td>\n",
       "      <td>-0.01</td>\n",
       "      <td>-0.13</td>\n",
       "      <td>0.02</td>\n",
       "      <td>0.89</td>\n",
       "      <td>0.01</td>\n",
       "      <td>-0.09</td>\n",
       "      <td>1.00</td>\n",
       "      <td>-0.06</td>\n",
       "    </tr>\n",
       "    <tr>\n",
       "      <th>target</th>\n",
       "      <td>0.35</td>\n",
       "      <td>0.18</td>\n",
       "      <td>0.01</td>\n",
       "      <td>0.29</td>\n",
       "      <td>0.08</td>\n",
       "      <td>-0.04</td>\n",
       "      <td>-0.25</td>\n",
       "      <td>-0.41</td>\n",
       "      <td>-0.05</td>\n",
       "      <td>0.25</td>\n",
       "      <td>0.03</td>\n",
       "      <td>-0.07</td>\n",
       "      <td>0.10</td>\n",
       "      <td>-0.05</td>\n",
       "      <td>-0.06</td>\n",
       "      <td>1.00</td>\n",
       "    </tr>\n",
       "  </tbody>\n",
       "</table>\n",
       "</div>"
      ],
      "text/plain": [
       "                  danceability  energy   key  loudness  mode  speechiness  \\\n",
       "danceability              1.00    0.21  0.02      0.27 -0.03         0.16   \n",
       "energy                    0.21    1.00  0.02      0.77 -0.03         0.12   \n",
       "key                       0.02    0.02  1.00      0.01 -0.14         0.03   \n",
       "loudness                  0.27    0.77  0.01      1.00  0.00         0.07   \n",
       "mode                     -0.03   -0.03 -0.14      0.00  1.00        -0.06   \n",
       "speechiness               0.16    0.12  0.03      0.07 -0.06         1.00   \n",
       "acousticness             -0.26   -0.72 -0.02     -0.57  0.05        -0.08   \n",
       "instrumentalness         -0.30   -0.21 -0.01     -0.37 -0.08        -0.08   \n",
       "liveness                 -0.12    0.16  0.00      0.09  0.01         0.13   \n",
       "valence                   0.55    0.34  0.01      0.27  0.04         0.00   \n",
       "tempo                    -0.07    0.22  0.00      0.17  0.03         0.04   \n",
       "duration_ms              -0.06    0.01  0.02     -0.05 -0.07         0.01   \n",
       "time_signature            0.19    0.20  0.00      0.17 -0.01         0.02   \n",
       "chorus_hit               -0.04    0.01  0.01     -0.01 -0.02         0.01   \n",
       "sections                 -0.06   -0.04  0.01     -0.08 -0.06        -0.01   \n",
       "target                    0.35    0.18  0.01      0.29  0.08        -0.04   \n",
       "\n",
       "                  acousticness  instrumentalness  liveness  valence  tempo  \\\n",
       "danceability             -0.26             -0.30     -0.12     0.55  -0.07   \n",
       "energy                   -0.72             -0.21      0.16     0.34   0.22   \n",
       "key                      -0.02             -0.01      0.00     0.01   0.00   \n",
       "loudness                 -0.57             -0.37      0.09     0.27   0.17   \n",
       "mode                      0.05             -0.08      0.01     0.04   0.03   \n",
       "speechiness              -0.08             -0.08      0.13     0.00   0.04   \n",
       "acousticness              1.00              0.20     -0.03    -0.20  -0.18   \n",
       "instrumentalness          0.20              1.00     -0.05    -0.29  -0.05   \n",
       "liveness                 -0.03             -0.05      1.00     0.00   0.02   \n",
       "valence                  -0.20             -0.29      0.00     1.00   0.11   \n",
       "tempo                    -0.18             -0.05      0.02     0.11   1.00   \n",
       "duration_ms              -0.07              0.11      0.01    -0.17  -0.02   \n",
       "time_signature           -0.19             -0.08      0.00     0.16   0.01   \n",
       "chorus_hit               -0.01              0.05      0.04    -0.06  -0.06   \n",
       "sections                 -0.02              0.08     -0.01    -0.13   0.02   \n",
       "target                   -0.25             -0.41     -0.05     0.25   0.03   \n",
       "\n",
       "                  duration_ms  time_signature  chorus_hit  sections  target  \n",
       "danceability            -0.06            0.19       -0.04     -0.06    0.35  \n",
       "energy                   0.01            0.20        0.01     -0.04    0.18  \n",
       "key                      0.02            0.00        0.01      0.01    0.01  \n",
       "loudness                -0.05            0.17       -0.01     -0.08    0.29  \n",
       "mode                    -0.07           -0.01       -0.02     -0.06    0.08  \n",
       "speechiness              0.01            0.02        0.01     -0.01   -0.04  \n",
       "acousticness            -0.07           -0.19       -0.01     -0.02   -0.25  \n",
       "instrumentalness         0.11           -0.08        0.05      0.08   -0.41  \n",
       "liveness                 0.01            0.00        0.04     -0.01   -0.05  \n",
       "valence                 -0.17            0.16       -0.06     -0.13    0.25  \n",
       "tempo                   -0.02            0.01       -0.06      0.02    0.03  \n",
       "duration_ms              1.00            0.02        0.09      0.89   -0.07  \n",
       "time_signature           0.02            1.00       -0.01      0.01    0.10  \n",
       "chorus_hit               0.09           -0.01        1.00     -0.09   -0.05  \n",
       "sections                 0.89            0.01       -0.09      1.00   -0.06  \n",
       "target                  -0.07            0.10       -0.05     -0.06    1.00  "
      ]
     },
     "execution_count": 30,
     "metadata": {},
     "output_type": "execute_result"
    }
   ],
   "source": [
    "df.corr()"
   ]
  },
  {
   "cell_type": "markdown",
   "id": "ea54c8a5",
   "metadata": {},
   "source": [
    "#### Correlation\n",
    "In order to choose which song attributes correlated the most with the event of a song being a hit, correlation diagram below is shown"
   ]
  },
  {
   "cell_type": "code",
   "execution_count": 31,
   "id": "b388055a",
   "metadata": {},
   "outputs": [
    {
     "data": {
      "text/plain": [
       "array([[1., 1., 1., 1., 1., 1., 1., 1., 1., 1., 1., 1., 1., 1., 1., 1.],\n",
       "       [0., 1., 1., 1., 1., 1., 1., 1., 1., 1., 1., 1., 1., 1., 1., 1.],\n",
       "       [0., 0., 1., 1., 1., 1., 1., 1., 1., 1., 1., 1., 1., 1., 1., 1.],\n",
       "       [0., 0., 0., 1., 1., 1., 1., 1., 1., 1., 1., 1., 1., 1., 1., 1.],\n",
       "       [0., 0., 0., 0., 1., 1., 1., 1., 1., 1., 1., 1., 1., 1., 1., 1.],\n",
       "       [0., 0., 0., 0., 0., 1., 1., 1., 1., 1., 1., 1., 1., 1., 1., 1.],\n",
       "       [0., 0., 0., 0., 0., 0., 1., 1., 1., 1., 1., 1., 1., 1., 1., 1.],\n",
       "       [0., 0., 0., 0., 0., 0., 0., 1., 1., 1., 1., 1., 1., 1., 1., 1.],\n",
       "       [0., 0., 0., 0., 0., 0., 0., 0., 1., 1., 1., 1., 1., 1., 1., 1.],\n",
       "       [0., 0., 0., 0., 0., 0., 0., 0., 0., 1., 1., 1., 1., 1., 1., 1.],\n",
       "       [0., 0., 0., 0., 0., 0., 0., 0., 0., 0., 1., 1., 1., 1., 1., 1.],\n",
       "       [0., 0., 0., 0., 0., 0., 0., 0., 0., 0., 0., 1., 1., 1., 1., 1.],\n",
       "       [0., 0., 0., 0., 0., 0., 0., 0., 0., 0., 0., 0., 1., 1., 1., 1.],\n",
       "       [0., 0., 0., 0., 0., 0., 0., 0., 0., 0., 0., 0., 0., 1., 1., 1.],\n",
       "       [0., 0., 0., 0., 0., 0., 0., 0., 0., 0., 0., 0., 0., 0., 1., 1.],\n",
       "       [0., 0., 0., 0., 0., 0., 0., 0., 0., 0., 0., 0., 0., 0., 0., 1.]])"
      ]
     },
     "execution_count": 31,
     "metadata": {},
     "output_type": "execute_result"
    }
   ],
   "source": [
    "mask = np.zeros_like(df.corr())\n",
    "triangle_indices = np.triu_indices_from(mask)\n",
    "mask[triangle_indices] = True\n",
    "mask"
   ]
  },
  {
   "cell_type": "code",
   "execution_count": 32,
   "id": "170ae148",
   "metadata": {},
   "outputs": [
    {
     "data": {
      "image/png": "[encoded data removed]",
      "text/plain": [
       "<Figure size 1152x720 with 2 Axes>"
      ]
     },
     "metadata": {
      "needs_background": "light"
     },
     "output_type": "display_data"
    }
   ],
   "source": [
    "plt.figure(figsize=(16,10))\n",
    "sns.heatmap(df.corr(),mask=mask, annot=True, cmap=\"viridis\", annot_kws={\"size\": 14})\n",
    "plt.xticks(fontsize=14)\n",
    "plt.yticks(fontsize=14)\n",
    "plt.show()"
   ]
  },
  {
   "cell_type": "code",
   "execution_count": 33,
   "id": "1c2c8641",
   "metadata": {},
   "outputs": [],
   "source": [
    "# %%time\n",
    "\n",
    "# sns.pairplot(df)\n",
    "# plt.show()"
   ]
  },
  {
   "cell_type": "markdown",
   "id": "30b842d3",
   "metadata": {},
   "source": [
    "From the correlation diagram, 3 attributes chosen. The 3 attributes are danceability, loudness and valence"
   ]
  },
  {
   "cell_type": "markdown",
   "id": "ad256640",
   "metadata": {},
   "source": [
    "#### Danceability, Loudness and Valence has the highest positive correlation with target.\n",
    "##### Below are the comparison of danceability, loudness and valence average between hit and non-hit songs "
   ]
  },
  {
   "cell_type": "code",
   "execution_count": 34,
   "id": "51a86bb7",
   "metadata": {},
   "outputs": [
    {
     "data": {
      "image/png": "[encoded data removed]",
      "text/plain": [
       "<Figure size 432x288 with 1 Axes>"
      ]
     },
     "metadata": {
      "needs_background": "light"
     },
     "output_type": "display_data"
    }
   ],
   "source": [
    "danceability = df.groupby('target')['danceability'].mean().reset_index(name='average')\n",
    "danceability['target'].apply(str)\n",
    "danceability.dtypes\n",
    "plt.bar(danceability.target, danceability.average, align='center', alpha=0.5)\n",
    "plt.xticks([0,1])\n",
    "plt.ylabel('Danceability avg.')\n",
    "plt.title('Average of Danceability between hit song and non-hit song')\n",
    "\n",
    "plt.show()"
   ]
  },
  {
   "cell_type": "code",
   "execution_count": 35,
   "id": "1e14e73e",
   "metadata": {},
   "outputs": [
    {
     "data": {
      "image/png": "[encoded data removed]",
      "text/plain": [
       "<Figure size 432x288 with 1 Axes>"
      ]
     },
     "metadata": {
      "needs_background": "light"
     },
     "output_type": "display_data"
    }
   ],
   "source": [
    "valence = df.groupby('target')['valence'].mean().reset_index(name='average')\n",
    "plt.bar(valence.target, valence.average, align='center', alpha=0.5)\n",
    "plt.xticks([0,1])\n",
    "plt.ylabel('Valence avg.')\n",
    "plt.title('Average of Valence between hit song and non-hit song')\n",
    "\n",
    "plt.show()"
   ]
  },
  {
   "cell_type": "code",
   "execution_count": 37,
   "id": "52e77249",
   "metadata": {},
   "outputs": [
    {
     "data": {
      "image/png": "[encoded data removed]",
      "text/plain": [
       "<Figure size 432x288 with 1 Axes>"
      ]
     },
     "metadata": {
      "needs_background": "light"
     },
     "output_type": "display_data"
    }
   ],
   "source": [
    "loudness = df.groupby('target')['loudness'].mean().reset_index(name='average')\n",
    "plt.bar(loudness.target, loudness.average, align='center', alpha=0.5)\n",
    "plt.xticks([0,1])\n",
    "plt.ylabel('Loudness avg.')\n",
    "plt.title('Average of Loudness between hit song and non-hit song')\n",
    "\n",
    "plt.show()"
   ]
  },
  {
   "cell_type": "markdown",
   "id": "2b13e883",
   "metadata": {},
   "source": [
    "The lesser the amount of negative in loudness means the louder the song. This might be due to adjustment of loudness by spotify, hence the quiter the song the bigger the minus."
   ]
  },
  {
   "cell_type": "markdown",
   "id": "14f21cee",
   "metadata": {},
   "source": [
    "### Modelling"
   ]
  },
  {
   "cell_type": "markdown",
   "id": "cb1764b3",
   "metadata": {},
   "source": [
    "#### Multilinear regression model with Loudness, Danceability and Valence.\n",
    "Since the target is categorized as either '0' or '1', logistic regression is chosen as prediction model."
   ]
  },
  {
   "cell_type": "markdown",
   "id": "8e25c15d",
   "metadata": {},
   "source": [
    "##### Detecting multicollinearity in variable chosen\n",
    "High multicollinearity will affect the regression model. Hence below, the multicollinearity between chosen attributes are calculated. "
   ]
  },
  {
   "cell_type": "code",
   "execution_count": 100,
   "id": "9ef55014",
   "metadata": {},
   "outputs": [],
   "source": [
    "vif = pd.DataFrame()\n",
    "vif[\"attribute\"] = X.columns\n",
    "vif[\"VIF\"] = [variance_inflation_factor(X.values, i) for i in range(len(X.columns))]"
   ]
  },
  {
   "cell_type": "code",
   "execution_count": 101,
   "id": "677b9532",
   "metadata": {},
   "outputs": [
    {
     "data": {
      "text/html": [
       "<div>\n",
       "<style scoped>\n",
       "    .dataframe tbody tr th:only-of-type {\n",
       "        vertical-align: middle;\n",
       "    }\n",
       "\n",
       "    .dataframe tbody tr th {\n",
       "        vertical-align: top;\n",
       "    }\n",
       "\n",
       "    .dataframe thead th {\n",
       "        text-align: right;\n",
       "    }\n",
       "</style>\n",
       "<table border=\"1\" class=\"dataframe\">\n",
       "  <thead>\n",
       "    <tr style=\"text-align: right;\">\n",
       "      <th></th>\n",
       "      <th>attribute</th>\n",
       "      <th>VIF</th>\n",
       "    </tr>\n",
       "  </thead>\n",
       "  <tbody>\n",
       "    <tr>\n",
       "      <th>0</th>\n",
       "      <td>danceability</td>\n",
       "      <td>9.24</td>\n",
       "    </tr>\n",
       "    <tr>\n",
       "      <th>1</th>\n",
       "      <td>valence</td>\n",
       "      <td>7.26</td>\n",
       "    </tr>\n",
       "    <tr>\n",
       "      <th>2</th>\n",
       "      <td>loudness</td>\n",
       "      <td>2.82</td>\n",
       "    </tr>\n",
       "  </tbody>\n",
       "</table>\n",
       "</div>"
      ],
      "text/plain": [
       "      attribute  VIF\n",
       "0  danceability 9.24\n",
       "1       valence 7.26\n",
       "2      loudness 2.82"
      ]
     },
     "execution_count": 101,
     "metadata": {},
     "output_type": "execute_result"
    }
   ],
   "source": [
    "vif"
   ]
  },
  {
   "cell_type": "markdown",
   "id": "859f0117",
   "metadata": {},
   "source": [
    "The highest VIF is for danceability. It make sense since most of dance track is a \"happy track\" and loud enough to move around. However since the VIF still less than 10, it is acceptable."
   ]
  },
  {
   "cell_type": "markdown",
   "id": "fb7eb011",
   "metadata": {},
   "source": [
    "#### Building Logistic Regression Model"
   ]
  },
  {
   "cell_type": "code",
   "execution_count": 112,
   "id": "e73eeeec",
   "metadata": {},
   "outputs": [],
   "source": [
    "X = df[['danceability', 'valence','loudness']]\n",
    "y = df['target']\n",
    "X_train, X_test, y_train, y_test = train_test_split(X, y, test_size=1/5, random_state=0)"
   ]
  },
  {
   "cell_type": "code",
   "execution_count": 113,
   "id": "a5c49062",
   "metadata": {},
   "outputs": [],
   "source": [
    "logreg = LogisticRegression()"
   ]
  },
  {
   "cell_type": "code",
   "execution_count": 114,
   "id": "e001e67a",
   "metadata": {},
   "outputs": [],
   "source": [
    "clf = logreg.fit(X_train, y_train)"
   ]
  },
  {
   "cell_type": "code",
   "execution_count": 115,
   "id": "0de97256",
   "metadata": {},
   "outputs": [
    {
     "name": "stdout",
     "output_type": "stream",
     "text": [
      "The coefficient for the logistic regression model are: [[3.48608445 0.47601961 0.10734317]]\n",
      "The intercept is: [-1.08743753]\n"
     ]
    }
   ],
   "source": [
    "print(f\"The coefficient for the logistic regression model are: {clf.coef_}\") \n",
    "print(f\"The intercept is: {clf.intercept_}\")"
   ]
  },
  {
   "cell_type": "markdown",
   "id": "c70d3165",
   "metadata": {},
   "source": [
    "***\n",
    "$\\mathbf{\\text{Logistic Regression Model}}$<br>\n",
    "***\n",
    "\n",
    "$$p=\\frac{exp (-1.087 + 0.486x + 0.476x + 0.107x)}{1 + exp (-1.087 + 0.486x + 0.476x + 0.107x)}$$"
   ]
  },
  {
   "cell_type": "markdown",
   "id": "cfe2aec4",
   "metadata": {},
   "source": [
    "#### Predict test data using model"
   ]
  },
  {
   "cell_type": "code",
   "execution_count": 118,
   "id": "a4691859",
   "metadata": {},
   "outputs": [],
   "source": [
    "predictions = clf.predict(X_test[0:25])\n",
    "y_prediction = y[0:25]"
   ]
  },
  {
   "cell_type": "code",
   "execution_count": 119,
   "id": "e0351d0b",
   "metadata": {},
   "outputs": [
    {
     "name": "stdout",
     "output_type": "stream",
     "text": [
      "Comparison of prediction using model and real data\n",
      "    prediction  real data\n",
      "0            1          1\n",
      "1            0          1\n",
      "2            1          0\n",
      "3            1          0\n",
      "4            1          1\n",
      "5            0          0\n",
      "6            0          0\n",
      "7            0          1\n",
      "8            0          1\n",
      "9            1          0\n",
      "10           1          1\n",
      "11           1          1\n",
      "12           0          0\n",
      "13           1          1\n",
      "14           0          0\n",
      "15           0          0\n",
      "16           0          1\n",
      "17           0          1\n",
      "18           0          0\n",
      "19           0          0\n",
      "20           0          1\n",
      "21           1          0\n",
      "22           1          0\n",
      "23           1          1\n",
      "24           1          0\n"
     ]
    }
   ],
   "source": [
    "prediction_df = pd.DataFrame({'prediction':predictions, 'real data':y_prediction})\n",
    "print('Comparison of prediction using model and real data')\n",
    "print(prediction_df)\n",
    "# df_compare = pd.DataFrame(prediction, y)\n",
    "# print(df_compare)"
   ]
  },
  {
   "cell_type": "code",
   "execution_count": 110,
   "id": "b201b008",
   "metadata": {},
   "outputs": [
    {
     "name": "stdout",
     "output_type": "stream",
     "text": [
      "Score for this model is 0.6703964972026271\n"
     ]
    }
   ],
   "source": [
    "score = logreg.score(test_X, test_y)\n",
    "print(f\"Score for this model is {score}\")"
   ]
  },
  {
   "cell_type": "markdown",
   "id": "043913ed",
   "metadata": {},
   "source": [
    "### Confusion Matrix"
   ]
  },
  {
   "cell_type": "code",
   "execution_count": 130,
   "id": "bdaed99a",
   "metadata": {},
   "outputs": [],
   "source": [
    "all_predictions = logreg.predict(test_X)\n",
    "cm = metrics.confusion_matrix(test_y, all_predictions)"
   ]
  },
  {
   "cell_type": "code",
   "execution_count": 131,
   "id": "16a38b3e",
   "metadata": {},
   "outputs": [
    {
     "data": {
      "image/png": "[encoded data removed]",
      "text/plain": [
       "<Figure size 648x648 with 2 Axes>"
      ]
     },
     "metadata": {
      "needs_background": "light"
     },
     "output_type": "display_data"
    }
   ],
   "source": [
    "plt.figure(figsize=(9,9))\n",
    "sns.heatmap(cm, annot=True, fmt=\".3f\", linewidths=.5, square = True, cmap = 'Blues_r');\n",
    "plt.ylabel('Actual label');\n",
    "plt.xlabel('Predicted label');\n",
    "all_sample_title = 'Accuracy Score: {0}'.format(score)\n",
    "plt.title(all_sample_title, size = 15);"
   ]
  },
  {
   "cell_type": "code",
   "execution_count": null,
   "id": "66f26ecf",
   "metadata": {},
   "outputs": [],
   "source": []
  },
  {
   "cell_type": "code",
   "execution_count": null,
   "id": "90dbdb7a",
   "metadata": {},
   "outputs": [],
   "source": []
  },
  {
   "cell_type": "code",
   "execution_count": null,
   "id": "5cdddb57",
   "metadata": {},
   "outputs": [],
   "source": []
  }
 ],
 "metadata": {
  "kernelspec": {
   "display_name": "Python 3 (ipykernel)",
   "language": "python",
   "name": "python3"
  },
  "language_info": {
   "codemirror_mode": {
    "name": "ipython",
    "version": 3
   },
   "file_extension": ".py",
   "mimetype": "text/x-python",
   "name": "python",
   "nbconvert_exporter": "python",
   "pygments_lexer": "ipython3",
   "version": "3.9.12"
  }
 },
 "nbformat": 4,
 "nbformat_minor": 5
}
